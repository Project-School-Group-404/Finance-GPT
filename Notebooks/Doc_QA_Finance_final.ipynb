{
 "cells": [
  {
   "cell_type": "markdown",
   "metadata": {
    "id": "y-1_mhZP0rdK"
   },
   "source": [
    "### Installing Dependencies"
   ]
  },
  {
   "cell_type": "code",
   "execution_count": null,
   "metadata": {
    "id": "utr0xKMkwl-_"
   },
   "outputs": [],
   "source": [
    "!pip install -U langchain-community"
   ]
  },
  {
   "cell_type": "code",
   "execution_count": null,
   "metadata": {
    "id": "fUO5Xp33xA6Y"
   },
   "outputs": [],
   "source": [
    "!pip install langchain-docling"
   ]
  },
  {
   "cell_type": "code",
   "execution_count": null,
   "metadata": {
    "id": "-iLJuc42w7eS"
   },
   "outputs": [],
   "source": [
    "# !pip install langchain-huggingface"
   ]
  },
  {
   "cell_type": "code",
   "execution_count": null,
   "metadata": {
    "id": "jCk0ViQbxnkW"
   },
   "outputs": [],
   "source": [
    "# !pip install docling"
   ]
  },
  {
   "cell_type": "code",
   "execution_count": null,
   "metadata": {
    "id": "HwTfrBUeyej0"
   },
   "outputs": [],
   "source": [
    "# !pip install langchain-pinecone"
   ]
  },
  {
   "cell_type": "code",
   "execution_count": null,
   "metadata": {
    "id": "f-4IRdJE9-Xj"
   },
   "outputs": [],
   "source": [
    "# !pip install langchain-groq\n"
   ]
  },
  {
   "cell_type": "markdown",
   "metadata": {
    "id": "UahvpQIi0j7-"
   },
   "source": [
    "### Importing the required libraries"
   ]
  },
  {
   "cell_type": "code",
   "execution_count": null,
   "metadata": {
    "id": "OGin9xNxy7RZ"
   },
   "outputs": [],
   "source": [
    "import os\n",
    "from pathlib import Path\n",
    "from PIL import Image\n",
    "from io import BytesIO\n",
    "import base64\n",
    "from IPython.display import display, HTML\n",
    "from langchain_docling import DoclingLoader\n",
    "from langchain_docling.loader import ExportType\n",
    "from docling.document_converter import DocumentConverter\n",
    "from docling.datamodel.pipeline_options import (\n",
    "    PdfPipelineOptions,\n",
    ")\n",
    "from docling.document_converter import PdfFormatOption\n",
    "from docling.datamodel.base_models import InputFormat\n",
    "from transformers import AutoTokenizer\n",
    "from langchain.text_splitter import RecursiveCharacterTextSplitter\n",
    "from langchain.schema import Document\n",
    "from langchain_core.prompts import PromptTemplate\n",
    "from langchain.embeddings import HuggingFaceEmbeddings\n",
    "from langchain_huggingface import HuggingFaceEndpoint\n",
    "from langchain_huggingface import ChatHuggingFace\n",
    "from pinecone import Pinecone\n",
    "from langchain_pinecone import PineconeVectorStore\n",
    "from langchain_core.runnables import RunnableParallel, RunnablePassthrough"
   ]
  },
  {
   "cell_type": "markdown",
   "metadata": {
    "id": "hEXJ_0Ja0SmP"
   },
   "source": [
    "### Parsing the provided document to Suitable Format(.txt,.md)"
   ]
  },
  {
   "cell_type": "code",
   "execution_count": null,
   "metadata": {
    "id": "KzYz-wloznl0"
   },
   "outputs": [],
   "source": [
    "pipeline_options = PdfPipelineOptions(\n",
    "    generate_page_images=True,\n",
    "    images_scale = 1.00,\n",
    ")\n",
    "# maps the input file type to the specific processing configuration, allowing the converter to know: 1. What type of file it’s dealing with, 2. How it should handle that file type\n",
    "format_options={InputFormat.PDF: PdfFormatOption(pipeline_options=pipeline_options)}"
   ]
  },
  {
   "cell_type": "code",
   "execution_count": null,
   "metadata": {
    "colab": {
     "base_uri": "https://localhost:8080/"
    },
    "id": "Am04n2Tz0OVw",
    "outputId": "3f86d508-3b12-41d5-c899-915641a23e37"
   },
   "outputs": [],
   "source": [
    "converter = DocumentConverter(format_options=format_options)\n",
    "sources = [\"/content/Balance Sheet.pdf\",]\n",
    "\n",
    "# 1. Dictionary comprehension approach\n",
    "# Dictionary where it loops through each file in the sources, converter.convert(source) to process each document, .document is used to extract only the acutal content representation of the file\n",
    "# stores it in a dictionary with the file path as the key\n",
    "conversions = {source: converter.convert(source=source).document for source in sources}"
   ]
  },
  {
   "cell_type": "code",
   "execution_count": null,
   "metadata": {
    "id": "9YCZmW_s79xW"
   },
   "outputs": [],
   "source": [
    "# Good for batch processing if you're dealing with many files.\n",
    "# {\n",
    "#     \"/content/microsoftFY 2024.pdf\": <Document object>,\n",
    "#     \"another_file.pdf\": <Document object>,\n",
    "# }"
   ]
  },
  {
   "cell_type": "code",
   "execution_count": null,
   "metadata": {
    "colab": {
     "base_uri": "https://localhost:8080/"
    },
    "id": "EI_tn5Qy6Qp9",
    "outputId": "3de81dd1-172c-4176-b364-87a16900bd32"
   },
   "outputs": [],
   "source": [
    "%%time\n",
    "document_path = Path(\"/content/Balance Sheet.pdf\")\n",
    "#  2. Single conversion with explicit timing\n",
    "result = converter.convert(document_path)\n",
    "document = result.document"
   ]
  },
  {
   "cell_type": "code",
   "execution_count": null,
   "metadata": {
    "colab": {
     "base_uri": "https://localhost:8080/"
    },
    "id": "DqztZgJQ8WqO",
    "outputId": "4d9a91bf-ce93-46be-9c99-df24e5b7ad8b"
   },
   "outputs": [],
   "source": [
    "document = result.document\n",
    "print(document.export_to_text())"
   ]
  },
  {
   "cell_type": "markdown",
   "metadata": {
    "id": "0JTp5YxP8lZj"
   },
   "source": [
    "### Visual Inspection"
   ]
  },
  {
   "cell_type": "code",
   "execution_count": null,
   "metadata": {
    "id": "GhLYgN1_8edg"
   },
   "outputs": [],
   "source": [
    "def image_to_base64(image: Image.Image) -> str:\n",
    "    buffered = BytesIO()\n",
    "    image.save(buffered, format=\"PNG\")\n",
    "    return base64.b64encode(buffered.getvalue()).decode(\"utf-8\")\n",
    "\n",
    "def display_page(content: str, image: Image.Image):\n",
    "    html_template = f\"\"\"\n",
    "    <div style=\"display: flex; align-items: flex-start; gap: 40px; font-family: monospace;\">\n",
    "        <div style=\"flex: 1; max-width: 45%;\">\n",
    "            <img src=\"data:image/png;base64,{image_to_base64(image)}\" style=\"width: 100%; height: auto; padding: 5px;\">\n",
    "        </div>\n",
    "        <div style=\"flex: 1; max-width: 45%; white-space: pre-wrap; padding: 10px;\">\n",
    "            <div style=\"word-wrap: break-word; max-width: 120ch;\">\n",
    "                {content}\n",
    "            </div>\n",
    "        </div>\n",
    "    </div>\n",
    "    \"\"\"\n",
    "    display(HTML(html_template))"
   ]
  },
  {
   "cell_type": "code",
   "execution_count": null,
   "metadata": {
    "colab": {
     "base_uri": "https://localhost:8080/"
    },
    "id": "RPgU_7908tGG",
    "outputId": "10a0c119-c9b4-4618-82b7-b3ce3a81c560"
   },
   "outputs": [],
   "source": [
    "n_pages = len(document.pages)\n",
    "n_pages"
   ]
  },
  {
   "cell_type": "code",
   "execution_count": null,
   "metadata": {
    "id": "qcH90aGG8u0e"
   },
   "outputs": [],
   "source": [
    "pages = []\n",
    "for page_num in range(1, n_pages + 1):\n",
    "  pages.append(\n",
    "      (\n",
    "          document.export_to_markdown(page_no=page_num),\n",
    "          document.pages[page_num].image.pil_image\n",
    "      )\n",
    "  )"
   ]
  },
  {
   "cell_type": "code",
   "execution_count": null,
   "metadata": {
    "colab": {
     "base_uri": "https://localhost:8080/",
     "height": 1000
    },
    "id": "_9cUYnfA8w4S",
    "outputId": "22be8d58-155f-4f6c-d6e2-74c98b925300"
   },
   "outputs": [],
   "source": [
    "display_page(*pages[0])"
   ]
  },
  {
   "cell_type": "markdown",
   "metadata": {
    "id": "qBue2uv780b4"
   },
   "source": [
    "### Define LLM model and Embedding model"
   ]
  },
  {
   "cell_type": "code",
   "execution_count": null,
   "metadata": {
    "id": "d4H2BWae8yeL"
   },
   "outputs": [],
   "source": [
    "embeddings_model_path = \"ibm-granite/granite-embedding-30m-english\"\n",
    "embeddings_model = HuggingFaceEmbeddings(model_name=embeddings_model_path,)\n",
    "embeddings_tokenizer = AutoTokenizer.from_pretrained(embeddings_model_path)"
   ]
  },
  {
   "cell_type": "code",
   "execution_count": null,
   "metadata": {
    "id": "ggJiv4Ri9C3l"
   },
   "outputs": [],
   "source": [
    "from langchain_groq import ChatGroq\n",
    "GROQ_API_KEY = \"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\""
   ]
  },
  {
   "cell_type": "code",
   "execution_count": null,
   "metadata": {
    "id": "hUNxb_8597zG"
   },
   "outputs": [],
   "source": [
    "model = ChatGroq(groq_api_key=GROQ_API_KEY,model=\"llama-3.3-70b-versatile\")"
   ]
  },
  {
   "cell_type": "code",
   "execution_count": null,
   "metadata": {
    "colab": {
     "base_uri": "https://localhost:8080/"
    },
    "id": "jZt7Qo8N-_72",
    "outputId": "8a78b9bd-28b0-4e8a-c251-85aa39a9f426"
   },
   "outputs": [],
   "source": [
    "model.invoke(\"What is the capital of India?\")"
   ]
  },
  {
   "cell_type": "markdown",
   "metadata": {
    "id": "0MeDSA_h_pjF"
   },
   "source": [
    "### Chunking the Docs"
   ]
  },
  {
   "cell_type": "code",
   "execution_count": null,
   "metadata": {
    "colab": {
     "base_uri": "https://localhost:8080/"
    },
    "id": "2o9Y8lTq_LBE",
    "outputId": "fa996274-0d93-4cb1-daff-4f20d6e6fba2"
   },
   "outputs": [],
   "source": [
    "text_splitter = RecursiveCharacterTextSplitter(chunk_size=3000, chunk_overlap=200)\n",
    "\n",
    "all_chunks = {}\n",
    "for source, document in conversions.items():\n",
    "    full_text = document.export_to_text()\n",
    "    chunks = text_splitter.split_text(full_text)\n",
    "    all_chunks[source] = chunks"
   ]
  },
  {
   "cell_type": "code",
   "execution_count": null,
   "metadata": {
    "colab": {
     "base_uri": "https://localhost:8080/"
    },
    "id": "H66JhQ-EAHI7",
    "outputId": "1e51b284-c3d6-4486-c374-72999ae888ee"
   },
   "outputs": [],
   "source": [
    "for source, chunks in all_chunks.items():\n",
    "    print(f\"{source}: {len(chunks)} chunks\")"
   ]
  },
  {
   "cell_type": "code",
   "execution_count": null,
   "metadata": {
    "colab": {
     "base_uri": "https://localhost:8080/"
    },
    "id": "r9aX_X0mANX4",
    "outputId": "3b58b8e5-f3e7-4328-cffb-ec85e930a208"
   },
   "outputs": [],
   "source": [
    "for source, chunks in all_chunks.items():\n",
    "    print(f\"\\n=== Chunks from {source} ===\")\n",
    "    for i, chunk in enumerate(chunks, start=1):\n",
    "        print(f\"\\n--- Chunk {i} ---\\n{chunk}\")"
   ]
  },
  {
   "cell_type": "code",
   "execution_count": null,
   "metadata": {
    "id": "SFBMPywgKGYR"
   },
   "outputs": [],
   "source": [
    "# preparing chunks for use with PineCone\n",
    "for source, chunks in all_chunks.items():\n",
    "    docs = [Document(page_content=chunk, metadata={\"chunk_id\": i}) for i, chunk in enumerate(chunks)]"
   ]
  },
  {
   "cell_type": "markdown",
   "metadata": {
    "id": "RBYwIdakJQZ0"
   },
   "source": [
    "### Prompt Template and Chaining the Model and Prompt Template"
   ]
  },
  {
   "cell_type": "code",
   "execution_count": null,
   "metadata": {
    "id": "AlfxZBd-ATpZ"
   },
   "outputs": [],
   "source": [
    "prompt = PromptTemplate(\n",
    "    input_variables=[\"context\", \"question\"],\n",
    "    template=\"\"\"\n",
    "    You are a highly knowledgeable financial assistant. Use only the information provided in the context below to answer the user's question. Do not use prior knowledge.\n",
    "\n",
    "    If the context does not contain the information needed, respond with:\n",
    "    \"The answer is not available in the provided document.\"\n",
    "\n",
    "    Use the following context to answer the question.\n",
    "    ---\n",
    "    Context:\n",
    "    {context}\n",
    "    ---\n",
    "\n",
    "    Question: {question}\n",
    "\n",
    "    Answer:\n",
    "    \"\"\"\n",
    ")\n"
   ]
  },
  {
   "cell_type": "code",
   "execution_count": null,
   "metadata": {
    "id": "qATc9ChcJ1Ta"
   },
   "outputs": [],
   "source": [
    "chain = prompt | model"
   ]
  },
  {
   "cell_type": "markdown",
   "metadata": {
    "id": "VRsDS8eZJ7Nk"
   },
   "source": [
    "### Pine Cone Vector DataBase"
   ]
  },
  {
   "cell_type": "code",
   "execution_count": null,
   "metadata": {
    "id": "q5cPlcnUJ4N0"
   },
   "outputs": [],
   "source": [
    "os.environ[\"PINECONE_API_KEY\"] = \"pcsk_2RHjZi_JGNkT8eM8fPTate7MCSPPnz5iuc4rdgd9J3pgzAhUz41YvcaHuZiyzVhGiw3gry\"\n",
    "os.environ[\"PINECONE_ENVIRONMENT\"] = \"us-east-1\"\n",
    "\n",
    "pinecone_client = Pinecone(\n",
    "    api_key=os.environ[\"PINECONE_API_KEY\"],\n",
    "    environment=os.environ[\"PINECONE_ENVIRONMENT\"],\n",
    ")"
   ]
  },
  {
   "cell_type": "code",
   "execution_count": null,
   "metadata": {
    "id": "MhyXtPRVKBJF"
   },
   "outputs": [],
   "source": [
    "index_name = \"tryme\"\n",
    "pinecone = PineconeVectorStore.from_documents(\n",
    "    documents = docs,\n",
    "    embedding = embeddings_model,\n",
    "    index_name = index_name,\n",
    ")"
   ]
  },
  {
   "cell_type": "code",
   "execution_count": null,
   "metadata": {
    "id": "wUusAoxfLV_q"
   },
   "outputs": [],
   "source": [
    "chain = (\n",
    "    {\"context\" : pinecone.as_retriever(), \"question\":RunnablePassthrough()}\n",
    "    |prompt\n",
    "    |model\n",
    ")"
   ]
  },
  {
   "cell_type": "code",
   "execution_count": null,
   "metadata": {
    "colab": {
     "base_uri": "https://localhost:8080/"
    },
    "id": "3SWtfHMYLYk4",
    "outputId": "a69085bf-4e17-4b3b-aa58-9d91a0c0b862"
   },
   "outputs": [],
   "source": [
    "chain.invoke(\"Who is Atanu Chakraborty?\")"
   ]
  },
  {
   "cell_type": "code",
   "execution_count": null,
   "metadata": {
    "id": "0eG0sClPLnNx"
   },
   "outputs": [],
   "source": []
  }
 ],
 "metadata": {
  "accelerator": "GPU",
  "colab": {
   "gpuType": "T4",
   "provenance": []
  },
  "kernelspec": {
   "display_name": "Python 3 (ipykernel)",
   "language": "python",
   "name": "python3"
  },
  "language_info": {
   "codemirror_mode": {
    "name": "ipython",
    "version": 3
   },
   "file_extension": ".py",
   "mimetype": "text/x-python",
   "name": "python",
   "nbconvert_exporter": "python",
   "pygments_lexer": "ipython3",
   "version": "3.12.10"
  }
 },
 "nbformat": 4,
 "nbformat_minor": 4
}
